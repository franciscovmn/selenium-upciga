{
 "cells": [
  {
   "cell_type": "code",
   "execution_count": 15,
   "metadata": {},
   "outputs": [],
   "source": [
    "import undetected_chromedriver as uc\n",
    "from time import sleep\n",
    "from selenium.webdriver.common.by import By\n",
    "from selenium.webdriver.support.wait import WebDriverWait\n",
    "from selenium.webdriver.support import expected_conditions as EC\n",
    "import sys"
   ]
  },
  {
   "cell_type": "code",
   "execution_count": 16,
   "metadata": {},
   "outputs": [],
   "source": [
    "# LOGIN GOOGLE\n",
    "\n",
    "if __name__ == '__main__':\n",
    "    \n",
    "    driver = uc.Chrome()\n",
    "    driver.get('https://lookerstudio.google.com/navigation/reporting?requirelogin=1')\n",
    "\n",
    "\n",
    "    # EMAIL \n",
    "    try:\n",
    "        email = WebDriverWait(driver, 10).until(\n",
    "            EC.presence_of_element_located((By.XPATH, '//*[@id=\"identifierId\"]'))\n",
    "        )\n",
    "        email.send_keys(\"dadosguimaraes@gmail.com\")\n",
    "    except:\n",
    "        driver.quit()\n",
    "        sys.exit() \n",
    "\n",
    "    try:\n",
    "        proxima_email = WebDriverWait(driver, 10).until(\n",
    "            EC.presence_of_element_located((By.XPATH, '//*[@id=\"identifierNext\"]/div/button/span'))\n",
    "        )\n",
    "        proxima_email.click()\n",
    "    except:\n",
    "        driver.quit()\n",
    "        sys.exit()\n",
    "\n",
    "    # SENHA\n",
    "\n",
    "    try:\n",
    "        senha = WebDriverWait(driver, 10).until(\n",
    "            EC.presence_of_element_located((By.XPATH, '//*[@id=\"password\"]/div[1]/div/div[1]/input'))\n",
    "        )\n",
    "        senha.send_keys(\"123456oK\")\n",
    "    except:\n",
    "            driver.quit()\n",
    "            sys.exit() \n",
    "            \n",
    "    try:\n",
    "        proxima_senha = WebDriverWait(driver, 10).until(\n",
    "            EC.presence_of_element_located((By.XPATH, '//*[@id=\"passwordNext\"]/div/button/span'))\n",
    "        )\n",
    "        proxima_senha.click()\n",
    "    except:\n",
    "        driver.quit()\n",
    "        sys.exit()"
   ]
  },
  {
   "cell_type": "code",
   "execution_count": 17,
   "metadata": {},
   "outputs": [
    {
     "ename": "SystemExit",
     "evalue": "",
     "output_type": "error",
     "traceback": [
      "An exception has occurred, use %tb to see the full traceback.\n",
      "\u001b[0;31mSystemExit\u001b[0m\n"
     ]
    }
   ],
   "source": [
    "# ABRIR O ARQUIVO PARA FAZER A CARGA\n",
    "\n",
    "try:\n",
    "    selecionar_arquivo = WebDriverWait(driver, 10).until(\n",
    "        EC.presence_of_element_located((By.XPATH, '/html/body/app-bootstrap/ng2-bootstrap/lego-router-outlet/navigation-page/div/div/nav-table/ol/li[1]/div/span/nav-item/div[2]/a'))\n",
    "    )\n",
    "    selecionar_arquivo.click()\n",
    "except:\n",
    "    driver.quit()\n",
    "    sys.exit()\n",
    "\n",
    "try:\n",
    "    selecionar_btn_editar = WebDriverWait(driver, 10).until(\n",
    "        EC.presence_of_element_located((By.XPATH, '//*[@id=\"reporting-app-header\"]/md-toolbar/div/product-tools-header/div/reporting-product-tools-header/edit-mode-toggle-button/button/span[2]'))\n",
    "    )\n",
    "    selecionar_btn_editar.click()\n",
    "except:\n",
    "    driver.quit()\n",
    "    sys.exit()\n",
    "\n",
    "try:\n",
    "    selecionar_btn_carga_dados = WebDriverWait(driver, 10).until(\n",
    "        EC.presence_of_element_located((By.XPATH, '//*[@id=\"body\"]/div[2]/div/ng2-reporting-plate/plate/div/div[1]/div[1]/report-editing-tools/div/div/div/div/div[5]/icon-action-button/button/span[4]'))\n",
    "    )\n",
    "    selecionar_btn_carga_dados.click()\n",
    "except:\n",
    "    driver.quit()\n",
    "    sys.exit()\n",
    "\n",
    "try:\n",
    "    selecionar_btn_csv = WebDriverWait(driver, 10).until(\n",
    "        EC.presence_of_element_located((By.XPATH, '//*[@id=\"google-connectors\"]/div/div[2]/connector-gallery-card[7]/mat-card/div[2]/p[1]/span'))\n",
    "    )\n",
    "    selecionar_btn_csv.click()\n",
    "except:\n",
    "    driver.quit()\n",
    "    sys.exit()\n",
    "\n",
    "file_input = driver.find_element(By.CSS_SELECTOR, \"input[type='file']\")\n",
    "file_input.send_keys(\"Selenium/arquivo.csv\")\n",
    "driver.find_element(By.ID, \"file-submit\").click()\n",
    "\n"
   ]
  }
 ],
 "metadata": {
  "kernelspec": {
   "display_name": "venv",
   "language": "python",
   "name": "python3"
  },
  "language_info": {
   "codemirror_mode": {
    "name": "ipython",
    "version": 3
   },
   "file_extension": ".py",
   "mimetype": "text/x-python",
   "name": "python",
   "nbconvert_exporter": "python",
   "pygments_lexer": "ipython3",
   "version": "3.11.5"
  }
 },
 "nbformat": 4,
 "nbformat_minor": 2
}
